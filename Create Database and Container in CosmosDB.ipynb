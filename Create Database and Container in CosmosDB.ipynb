{
  "cells": [
    {
      "cell_type": "code",
      "source": [
        "import azure.cosmos\n",
        "from azure.cosmos.partition_key import PartitionKey\n",
        "\n",
        "database = cosmos_client.create_database_if_not_exists('RetailDemo')\n",
        "print('Database RetailDemo created')\n",
        "\n",
        "database.delete_container('WebsiteData')\n",
        "print('Container WebsiteData deleted')"
      ],
      "outputs": [],
      "execution_count": null,
      "metadata": {
        "collapsed": true,
        "jupyter": {
          "source_hidden": false,
          "outputs_hidden": false
        },
        "nteract": {
          "transient": {
            "deleting": false
          }
        }
      }
    },
    {
      "cell_type": "code",
      "source": [
        "import azure.cosmos\n",
        "from azure.cosmos.partition_key import PartitionKey\n",
        "\n",
        "database = cosmos_client.create_database_if_not_exists('RetailDemo')\n",
        "print('Database RetailDemo created')\n",
        "\n",
        "container = database.create_container_if_not_exists(id='WebsiteData', partition_key=PartitionKey(path='/CartID'),analytical_storage_ttl=-1)\n",
        "\n",
        "\n",
        "print('Container WebsiteData created')"
      ],
      "outputs": [],
      "execution_count": null,
      "metadata": {
        "collapsed": true,
        "jupyter": {
          "source_hidden": false,
          "outputs_hidden": false
        },
        "nteract": {
          "transient": {
            "deleting": false
          }
        }
      }
    }
  ],
  "metadata": {
    "language_info": {
      "name": "python",
      "version": "3.7",
      "mimetype": "application/json",
      "file_extension": "ipynb"
    },
    "nteract": {
      "version": "dataExplorer 1.0"
    }
  },
  "nbformat": 4,
  "nbformat_minor": 0
}